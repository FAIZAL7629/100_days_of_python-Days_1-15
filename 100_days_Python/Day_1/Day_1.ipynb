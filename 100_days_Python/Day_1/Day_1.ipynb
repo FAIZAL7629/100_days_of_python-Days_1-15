{
 "cells": [
  {
   "cell_type": "code",
   "execution_count": 2,
   "id": "083c97dc-4d9f-477b-ae47-f496a6ec2a06",
   "metadata": {},
   "outputs": [
    {
     "name": "stdout",
     "output_type": "stream",
     "text": [
      "Hello World!\n"
     ]
    }
   ],
   "source": [
    "print(\"Hello World!\")"
   ]
  },
  {
   "cell_type": "code",
   "execution_count": 2,
   "id": "37cbd732-f8cf-4e60-b359-971118452556",
   "metadata": {},
   "outputs": [
    {
     "name": "stdout",
     "output_type": "stream",
     "text": [
      "Welcome to the Band Name Generator.\n"
     ]
    },
    {
     "name": "stdin",
     "output_type": "stream",
     "text": [
      "Which city did you grow up in?\n",
      " Delhi\n",
      "What is the name of a pet?\n",
      " Shera\n"
     ]
    },
    {
     "name": "stdout",
     "output_type": "stream",
     "text": [
      "Your band name could be Delhi Shera\n"
     ]
    }
   ],
   "source": [
    "print(\"Welcome to the Band Name Generator.\")\n",
    "city = input(\"Which city did you grow up in?\\n\")\n",
    "pet = input(\"What is the name of a pet?\\n\")\n",
    "print(\"Your band name could be \" + city + \" \" + pet)\n"
   ]
  },
  {
   "cell_type": "code",
   "execution_count": null,
   "id": "05a78fd9-83b7-4959-8a14-ec686970b0a6",
   "metadata": {},
   "outputs": [],
   "source": []
  }
 ],
 "metadata": {
  "kernelspec": {
   "display_name": "Python 3 (ipykernel)",
   "language": "python",
   "name": "python3"
  },
  "language_info": {
   "codemirror_mode": {
    "name": "ipython",
    "version": 3
   },
   "file_extension": ".py",
   "mimetype": "text/x-python",
   "name": "python",
   "nbconvert_exporter": "python",
   "pygments_lexer": "ipython3",
   "version": "3.12.7"
  }
 },
 "nbformat": 4,
 "nbformat_minor": 5
}

{
 "cells": [
  {
   "cell_type": "code",
   "execution_count": null,
   "id": "99e9ab6d-e4e2-466e-bcdc-dd29004acb8c",
   "metadata": {},
   "outputs": [],
   "source": []
  }
 ],
 "metadata": {
  "kernelspec": {
   "display_name": "",
   "name": ""
  },
  "language_info": {
   "name": ""
  }
 },
 "nbformat": 4,
 "nbformat_minor": 5
}

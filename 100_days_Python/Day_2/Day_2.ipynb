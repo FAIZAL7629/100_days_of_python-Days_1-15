{
 "cells": [
  {
   "cell_type": "code",
   "execution_count": null,
   "id": "0be68acf-1f8a-48e5-a7aa-441ae7ed8d6b",
   "metadata": {},
   "outputs": [],
   "source": []
  }
 ],
 "metadata": {
  "kernelspec": {
   "display_name": "",
   "name": ""
  },
  "language_info": {
   "name": ""
  }
 },
 "nbformat": 4,
 "nbformat_minor": 5
}

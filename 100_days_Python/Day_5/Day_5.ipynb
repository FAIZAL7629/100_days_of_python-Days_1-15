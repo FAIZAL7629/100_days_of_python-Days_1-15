{
 "cells": [
  {
   "cell_type": "code",
   "execution_count": null,
   "id": "e86cc5e4-fdc7-4317-b1a7-6ef6ef675cad",
   "metadata": {},
   "outputs": [],
   "source": [
    "Project-5"
   ]
  },
  {
   "cell_type": "code",
   "execution_count": 2,
   "id": "39b10c81-188d-4727-b21a-95ad2ba11a26",
   "metadata": {},
   "outputs": [
    {
     "name": "stdout",
     "output_type": "stream",
     "text": [
      "Welcome to the PyPassword Generator!\n"
     ]
    },
    {
     "name": "stdin",
     "output_type": "stream",
     "text": [
      "How many letters would you like in your password?\n",
      " 4\n",
      "How many symbols would you like?\n",
      " 4\n",
      "How many numbers would you like?\n",
      " 4\n"
     ]
    },
    {
     "name": "stdout",
     "output_type": "stream",
     "text": [
      "['V', 'o', 'j', 'S', '(', '(', '(', '#', '6', '9', '7', '6']\n",
      "['o', '#', 'S', '6', '6', '9', '(', 'j', '(', 'V', '(', '7']\n",
      "Your password is: o#S669(j(V(7\n"
     ]
    }
   ],
   "source": [
    "import random\n",
    "letters = ['a', 'b', 'c', 'd', 'e', 'f', 'g', 'h', 'i', 'j', 'k', 'l', 'm', 'n', 'o', 'p', 'q', 'r', 's', 't', 'u', 'v', 'w', 'x', 'y', 'z', 'A', 'B', 'C', 'D', 'E', 'F', 'G', 'H', 'I', 'J', 'K', 'L', 'M', 'N', 'O', 'P', 'Q', 'R', 'S', 'T', 'U', 'V', 'W', 'X', 'Y', 'Z']\n",
    "numbers = ['0', '1', '2', '3', '4', '5', '6', '7', '8', '9']\n",
    "symbols = ['!', '#', '$', '%', '&', '(', ')', '*', '+']\n",
    "\n",
    "print(\"Welcome to the PyPassword Generator!\")\n",
    "nr_letters = int(input(\"How many letters would you like in your password?\\n\"))\n",
    "nr_symbols = int(input(f\"How many symbols would you like?\\n\"))\n",
    "nr_numbers = int(input(f\"How many numbers would you like?\\n\"))\n",
    "\n",
    "# Easy Level\n",
    "# password = \"\"\n",
    "# for char in range(0, nr_letters):\n",
    "#     password += random.choice(letters)\n",
    "#\n",
    "# for char in range(0, nr_symbols):\n",
    "#     password += random.choice(symbols)\n",
    "#\n",
    "# for char in range(0, nr_numbers):\n",
    "#     password += random.choice(numbers)\n",
    "#\n",
    "# print(password)\n",
    "\n",
    "# Hard level\n",
    "password_list = []\n",
    "for char in range(0, nr_letters):\n",
    "    password_list.append(random.choice(letters))\n",
    "\n",
    "for char in range(0, nr_symbols):\n",
    "    password_list.append(random.choice(symbols))\n",
    "\n",
    "for char in range(0, nr_numbers):\n",
    "    password_list.append(random.choice(numbers))\n",
    "\n",
    "print(password_list)\n",
    "random.shuffle(password_list)\n",
    "print(password_list)\n",
    "\n",
    "password = \"\"\n",
    "for char in password_list:\n",
    "    password += char\n",
    "\n",
    "print(f\"Your password is: {password}\")\n",
    "\n"
   ]
  },
  {
   "cell_type": "code",
   "execution_count": null,
   "id": "64416a28-2edc-473a-9717-a2d87e0b6e92",
   "metadata": {},
   "outputs": [],
   "source": []
  }
 ],
 "metadata": {
  "kernelspec": {
   "display_name": "Python 3 (ipykernel)",
   "language": "python",
   "name": "python3"
  },
  "language_info": {
   "codemirror_mode": {
    "name": "ipython",
    "version": 3
   },
   "file_extension": ".py",
   "mimetype": "text/x-python",
   "name": "python",
   "nbconvert_exporter": "python",
   "pygments_lexer": "ipython3",
   "version": "3.12.7"
  }
 },
 "nbformat": 4,
 "nbformat_minor": 5
}

{
 "cells": [
  {
   "cell_type": "code",
   "execution_count": null,
   "id": "a70550d1-7553-4325-adbc-e622a40454c7",
   "metadata": {},
   "outputs": [],
   "source": []
  }
 ],
 "metadata": {
  "kernelspec": {
   "display_name": "",
   "name": ""
  },
  "language_info": {
   "name": ""
  }
 },
 "nbformat": 4,
 "nbformat_minor": 5
}
